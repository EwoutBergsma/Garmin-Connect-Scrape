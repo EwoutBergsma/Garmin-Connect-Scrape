{
 "cells": [
  {
   "cell_type": "code",
   "execution_count": 20,
   "id": "2da19b04",
   "metadata": {},
   "outputs": [],
   "source": [
    "import os\n",
    "import glob\n",
    "import numpy as np\n",
    "from bs4 import BeautifulSoup\n",
    "from datetime import datetime"
   ]
  },
  {
   "cell_type": "code",
   "execution_count": 7,
   "id": "44562d69",
   "metadata": {},
   "outputs": [],
   "source": [
    "def load_and_parse_html_files(directory):\n",
    "    \"\"\"\n",
    "    Load and parse all HTML files in the specified directory.\n",
    "    Args:\n",
    "        directory (str): The path to the directory containing HTML files.\n",
    "    Returns:\n",
    "        list: A list of BeautifulSoup objects representing the parsed HTML files.\n",
    "    \"\"\"\n",
    "    html_files = glob.glob(os.path.join(directory, '*.html'))\n",
    "    if not html_files:\n",
    "        raise FileNotFoundError(f\"No HTML files found in directory: {directory}\")\n",
    "    else:\n",
    "        print(f\"Found {len(html_files)} HTML files in directory: {directory}\")\n",
    "\n",
    "    soups = []\n",
    "    # Open each HTML file\n",
    "    for file_path in html_files:\n",
    "        try:\n",
    "            with open(file_path, 'r', encoding='utf-8') as file:\n",
    "                content = file.read()\n",
    "                soups.append(BeautifulSoup(content, 'html.parser'))\n",
    "                # You can process the soup object as needed\n",
    "                print(f\"Processed file: {file_path}\")\n",
    "        except Exception as e:\n",
    "            print(f\"Error processing file {file_path}: {e}\")\n",
    "\n",
    "    return soups"
   ]
  },
  {
   "cell_type": "code",
   "execution_count": null,
   "id": "6c092b06",
   "metadata": {},
   "outputs": [
    {
     "name": "stdout",
     "output_type": "stream",
     "text": [
      "Found 3 HTML files in directory: html\n",
      "Processed file: html\\09_04_2025.html\n",
      "Processed file: html\\10_04_2025.html\n",
      "Processed file: html\\13_04_2025.html\n",
      "Start time: 23:51:00, End time: 08:24:00\n",
      "Start time: 00:33:00, End time: 08:24:00\n",
      "Start time: 22:29:00, End time: 07:42:00\n"
     ]
    }
   ],
   "source": [
    "def find_begin_and_end_timestamps(soup):\n",
    "    \"\"\"\n",
    "    Find the first and last timestamps of the graph (see README.md) in the HTML soup object.\n",
    "    Args:\n",
    "        soup (BeautifulSoup): The BeautifulSoup object containing the HTML content.\n",
    "    Returns:\n",
    "        tuple: A tuple containing the first and last timestamps as numpy datetime64 objects.\n",
    "    \"\"\"\n",
    "\n",
    "    # Example of div with (start) time: <div class=\"    flexboxgrid_colXs__2BUM1      flexboxgrid_collapse__v6Hdm  \"><span>12:33 AM</span><span class=\"SleepTimeEditors_pencilIcon__ejpUi\"><i class=\"icon-pencil undefined\" style=\"font-size: 14px;\"></i></span></div>\n",
    "    time_elements = soup.find_all(\"div\", class_=\"flexboxgrid_colXs__2BUM1\")\n",
    "    time_elements = [time_element.text.strip() for time_element in time_elements]\n",
    "    #   # Convert list of text strings (e.g. \"12:33 AM\") to list of datetime.time objects\n",
    "    time_elements = [datetime.strptime(time_element, \"%I:%M %p\").time() for time_element in time_elements]  # Convert text string (e.g. \"12:33 AM\")\n",
    "\n",
    "    # Check if we have exactly two time elements (start and stop time)\n",
    "    if len(time_elements) != 2:\n",
    "        raise ValueError(f\"Found {len(time_elements)} time elements, expected exactly two (i.e. start and stop time).\")\n",
    "    \n",
    "    return time_elements\n",
    "\n",
    "# Test the functions\n",
    "soups = load_and_parse_html_files('html')\n",
    "for soup in soups:\n",
    "    start_time, end_time = find_begin_and_end_timestamps(soup)\n",
    "    print(f\"Start time: {start_time}, End time: {end_time}\")"
   ]
  },
  {
   "cell_type": "code",
   "execution_count": null,
   "id": "727f13dc",
   "metadata": {},
   "outputs": [],
   "source": []
  }
 ],
 "metadata": {
  "kernelspec": {
   "display_name": ".venv",
   "language": "python",
   "name": "python3"
  },
  "language_info": {
   "codemirror_mode": {
    "name": "ipython",
    "version": 3
   },
   "file_extension": ".py",
   "mimetype": "text/x-python",
   "name": "python",
   "nbconvert_exporter": "python",
   "pygments_lexer": "ipython3",
   "version": "3.12.10"
  }
 },
 "nbformat": 4,
 "nbformat_minor": 5
}
